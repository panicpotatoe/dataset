{
 "cells": [
  {
   "cell_type": "markdown",
   "id": "3c2b23f4",
   "metadata": {},
   "source": [
    "# Chi-Squared Test\n",
    "\n",
    "The Chi-Squared test is a statistical hypothesis test used to determine if there is a significant association between two categorical variables. It's commonly used in data analysis to test the independence of variables."
   ]
  },
  {
   "cell_type": "markdown",
   "id": "fc9f7c3c",
   "metadata": {},
   "source": [
    "## Chi-Squared Test Theory\n",
    "\n",
    "### Formula\n",
    "\n",
    "The chi-squared statistic is calculated as:\n",
    "\n",
    "$$\\chi^2 = \\sum_{i=1}^{r} \\sum_{j=1}^{c} \\frac{(O_{ij} - E_{ij})^2}{E_{ij}}$$\n",
    "\n",
    "Where:\n",
    "- $O_{ij}$ is the observed frequency count in cell (i,j)\n",
    "- $E_{ij}$ is the expected frequency count in cell (i,j)\n",
    "- $r$ is the number of rows\n",
    "- $c$ is the number of columns\n",
    "\n",
    "### Expected Frequency\n",
    "\n",
    "The expected frequency for each cell is calculated as:\n",
    "\n",
    "$$E_{ij} = \\frac{\\text{row total} \\times \\text{column total}}{\\text{grand total}}$$\n",
    "\n",
    "### Degrees of Freedom\n",
    "\n",
    "For a contingency table with $r$ rows and $c$ columns:\n",
    "\n",
    "$$df = (r - 1) \\times (c - 1)$$\n",
    "\n",
    "### Hypothesis\n",
    "\n",
    "- $H_0$ (Null Hypothesis): The variables are independent (no association)\n",
    "- $H_1$ (Alternative Hypothesis): The variables are dependent (there is an association)\n",
    "\n",
    "### Decision Rule\n",
    "\n",
    "Reject $H_0$ if the p-value is less than the significance level (typically 0.05)."
   ]
  },
  {
   "cell_type": "code",
   "execution_count": 1,
   "id": "892780a1",
   "metadata": {},
   "outputs": [],
   "source": [
    "# Import required libraries\n",
    "import numpy as np\n",
    "import pandas as pd\n",
    "import matplotlib.pyplot as plt\n",
    "import seaborn as sns\n",
    "from scipy.stats import chi2_contingency, chi2\n",
    "import random"
   ]
  },
  {
   "cell_type": "markdown",
   "id": "32e09ba0",
   "metadata": {},
   "source": [
    "## Generate Sample Dataset\n",
    "\n",
    "Let's create a function to generate a sample dataset for chi-squared test. The dataset will simulate a study on the relationship between gender and preference for different types of food."
   ]
  },
  {
   "cell_type": "code",
   "execution_count": 2,
   "id": "6233a88a",
   "metadata": {},
   "outputs": [],
   "source": [
    "def generate_chi_squared_dataset(\n",
    "    n_observations=200, categories=None, dependency_strength=0.3, random_seed=42\n",
    "):\n",
    "    \"\"\"\n",
    "    Generate a sample dataset for chi-squared test with configurable parameters.\n",
    "\n",
    "    Parameters:\n",
    "    -----------\n",
    "    n_observations : int, default=200\n",
    "        Number of observations in the dataset\n",
    "    categories : dict, default=None\n",
    "        Dictionary with category names as keys and list of values as values\n",
    "        If None, default categories will be used\n",
    "    dependency_strength : float, default=0.3\n",
    "        Controls how strong the dependency is between variables (0 = independent, 1 = perfect dependency)\n",
    "    random_seed : int, default=42\n",
    "        Random seed for reproducibility\n",
    "\n",
    "    Returns:\n",
    "    --------\n",
    "    pandas.DataFrame\n",
    "        DataFrame containing generated categorical data\n",
    "    \"\"\"\n",
    "    np.random.seed(random_seed)\n",
    "    random.seed(random_seed)\n",
    "\n",
    "    if categories is None:\n",
    "        # Default categories - gender and food preference\n",
    "        categories = {\n",
    "            \"gender\": [\"Male\", \"Female\"],\n",
    "            \"food_preference\": [\"Italian\", \"Chinese\", \"Mexican\", \"Indian\"],\n",
    "        }\n",
    "\n",
    "    data = {}\n",
    "\n",
    "    # Generate the first category independently\n",
    "    first_cat_name = list(categories.keys())[0]\n",
    "    first_cat_values = categories[first_cat_name]\n",
    "    data[first_cat_name] = np.random.choice(first_cat_values, size=n_observations)\n",
    "\n",
    "    # Generate the second category with some dependency on the first\n",
    "    second_cat_name = list(categories.keys())[1]\n",
    "    second_cat_values = categories[second_cat_name]\n",
    "\n",
    "    data[second_cat_name] = []\n",
    "    for i in range(n_observations):\n",
    "        # Determine if this observation will follow the dependency pattern\n",
    "        if np.random.random() < dependency_strength:\n",
    "            # Create dependency - each value in first category prefers specific values in second category\n",
    "            first_val_index = first_cat_values.index(data[first_cat_name][i])\n",
    "            preferred_indices = [\n",
    "                (first_val_index + j) % len(second_cat_values)\n",
    "                for j in range(len(second_cat_values) // 2 + 1)\n",
    "            ]\n",
    "            preferred_values = [second_cat_values[idx] for idx in preferred_indices]\n",
    "            data[second_cat_name].append(np.random.choice(preferred_values))\n",
    "        else:\n",
    "            # Random choice (independent)\n",
    "            data[second_cat_name].append(np.random.choice(second_cat_values))\n",
    "\n",
    "    return pd.DataFrame(data)"
   ]
  },
  {
   "cell_type": "code",
   "execution_count": 3,
   "id": "d6ec4f54",
   "metadata": {},
   "outputs": [
    {
     "name": "stdout",
     "output_type": "stream",
     "text": [
      "Dataset shape: (300, 2)\n"
     ]
    },
    {
     "data": {
      "application/vnd.microsoft.datawrangler.viewer.v0+json": {
       "columns": [
        {
         "name": "index",
         "rawType": "int64",
         "type": "integer"
        },
        {
         "name": "gender",
         "rawType": "object",
         "type": "string"
        },
        {
         "name": "food_preference",
         "rawType": "object",
         "type": "string"
        }
       ],
       "conversionMethod": "pd.DataFrame",
       "ref": "1843270b-8835-4e06-b8ee-7c33c1bd326f",
       "rows": [
        [
         "0",
         "Male",
         "Mexican"
        ],
        [
         "1",
         "Female",
         "Italian"
        ],
        [
         "2",
         "Male",
         "Indian"
        ],
        [
         "3",
         "Male",
         "Mexican"
        ],
        [
         "4",
         "Male",
         "Mexican"
        ],
        [
         "5",
         "Female",
         "Chinese"
        ],
        [
         "6",
         "Male",
         "Indian"
        ],
        [
         "7",
         "Male",
         "Chinese"
        ],
        [
         "8",
         "Male",
         "Mexican"
        ],
        [
         "9",
         "Female",
         "Indian"
        ]
       ],
       "shape": {
        "columns": 2,
        "rows": 10
       }
      },
      "text/html": [
       "<div>\n",
       "<style scoped>\n",
       "    .dataframe tbody tr th:only-of-type {\n",
       "        vertical-align: middle;\n",
       "    }\n",
       "\n",
       "    .dataframe tbody tr th {\n",
       "        vertical-align: top;\n",
       "    }\n",
       "\n",
       "    .dataframe thead th {\n",
       "        text-align: right;\n",
       "    }\n",
       "</style>\n",
       "<table border=\"1\" class=\"dataframe\">\n",
       "  <thead>\n",
       "    <tr style=\"text-align: right;\">\n",
       "      <th></th>\n",
       "      <th>gender</th>\n",
       "      <th>food_preference</th>\n",
       "    </tr>\n",
       "  </thead>\n",
       "  <tbody>\n",
       "    <tr>\n",
       "      <th>0</th>\n",
       "      <td>Male</td>\n",
       "      <td>Mexican</td>\n",
       "    </tr>\n",
       "    <tr>\n",
       "      <th>1</th>\n",
       "      <td>Female</td>\n",
       "      <td>Italian</td>\n",
       "    </tr>\n",
       "    <tr>\n",
       "      <th>2</th>\n",
       "      <td>Male</td>\n",
       "      <td>Indian</td>\n",
       "    </tr>\n",
       "    <tr>\n",
       "      <th>3</th>\n",
       "      <td>Male</td>\n",
       "      <td>Mexican</td>\n",
       "    </tr>\n",
       "    <tr>\n",
       "      <th>4</th>\n",
       "      <td>Male</td>\n",
       "      <td>Mexican</td>\n",
       "    </tr>\n",
       "    <tr>\n",
       "      <th>5</th>\n",
       "      <td>Female</td>\n",
       "      <td>Chinese</td>\n",
       "    </tr>\n",
       "    <tr>\n",
       "      <th>6</th>\n",
       "      <td>Male</td>\n",
       "      <td>Indian</td>\n",
       "    </tr>\n",
       "    <tr>\n",
       "      <th>7</th>\n",
       "      <td>Male</td>\n",
       "      <td>Chinese</td>\n",
       "    </tr>\n",
       "    <tr>\n",
       "      <th>8</th>\n",
       "      <td>Male</td>\n",
       "      <td>Mexican</td>\n",
       "    </tr>\n",
       "    <tr>\n",
       "      <th>9</th>\n",
       "      <td>Female</td>\n",
       "      <td>Indian</td>\n",
       "    </tr>\n",
       "  </tbody>\n",
       "</table>\n",
       "</div>"
      ],
      "text/plain": [
       "   gender food_preference\n",
       "0    Male         Mexican\n",
       "1  Female         Italian\n",
       "2    Male          Indian\n",
       "3    Male         Mexican\n",
       "4    Male         Mexican\n",
       "5  Female         Chinese\n",
       "6    Male          Indian\n",
       "7    Male         Chinese\n",
       "8    Male         Mexican\n",
       "9  Female          Indian"
      ]
     },
     "execution_count": 3,
     "metadata": {},
     "output_type": "execute_result"
    }
   ],
   "source": [
    "# Generate a sample dataset\n",
    "df = generate_chi_squared_dataset(n_observations=300, dependency_strength=0.4)\n",
    "print(f\"Dataset shape: {df.shape}\")\n",
    "df.head(10)"
   ]
  },
  {
   "cell_type": "markdown",
   "id": "58f53d35",
   "metadata": {},
   "source": [
    "## Create Contingency Table\n",
    "\n",
    "A contingency table shows the relationship between two categorical variables. It's the primary input for a chi-squared test."
   ]
  },
  {
   "cell_type": "code",
   "execution_count": 4,
   "id": "24ebaf20",
   "metadata": {},
   "outputs": [
    {
     "name": "stdout",
     "output_type": "stream",
     "text": [
      "Contingency Table (Observed Frequencies):\n"
     ]
    },
    {
     "data": {
      "application/vnd.microsoft.datawrangler.viewer.v0+json": {
       "columns": [
        {
         "name": "gender",
         "rawType": "object",
         "type": "string"
        },
        {
         "name": "Chinese",
         "rawType": "int64",
         "type": "integer"
        },
        {
         "name": "Indian",
         "rawType": "int64",
         "type": "integer"
        },
        {
         "name": "Italian",
         "rawType": "int64",
         "type": "integer"
        },
        {
         "name": "Mexican",
         "rawType": "int64",
         "type": "integer"
        }
       ],
       "conversionMethod": "pd.DataFrame",
       "ref": "6196e2a9-74ff-44cd-8523-a13835b3c7bb",
       "rows": [
        [
         "Female",
         "35",
         "45",
         "27",
         "42"
        ],
        [
         "Male",
         "36",
         "26",
         "56",
         "33"
        ]
       ],
       "shape": {
        "columns": 4,
        "rows": 2
       }
      },
      "text/html": [
       "<div>\n",
       "<style scoped>\n",
       "    .dataframe tbody tr th:only-of-type {\n",
       "        vertical-align: middle;\n",
       "    }\n",
       "\n",
       "    .dataframe tbody tr th {\n",
       "        vertical-align: top;\n",
       "    }\n",
       "\n",
       "    .dataframe thead th {\n",
       "        text-align: right;\n",
       "    }\n",
       "</style>\n",
       "<table border=\"1\" class=\"dataframe\">\n",
       "  <thead>\n",
       "    <tr style=\"text-align: right;\">\n",
       "      <th>food_preference</th>\n",
       "      <th>Chinese</th>\n",
       "      <th>Indian</th>\n",
       "      <th>Italian</th>\n",
       "      <th>Mexican</th>\n",
       "    </tr>\n",
       "    <tr>\n",
       "      <th>gender</th>\n",
       "      <th></th>\n",
       "      <th></th>\n",
       "      <th></th>\n",
       "      <th></th>\n",
       "    </tr>\n",
       "  </thead>\n",
       "  <tbody>\n",
       "    <tr>\n",
       "      <th>Female</th>\n",
       "      <td>35</td>\n",
       "      <td>45</td>\n",
       "      <td>27</td>\n",
       "      <td>42</td>\n",
       "    </tr>\n",
       "    <tr>\n",
       "      <th>Male</th>\n",
       "      <td>36</td>\n",
       "      <td>26</td>\n",
       "      <td>56</td>\n",
       "      <td>33</td>\n",
       "    </tr>\n",
       "  </tbody>\n",
       "</table>\n",
       "</div>"
      ],
      "text/plain": [
       "food_preference  Chinese  Indian  Italian  Mexican\n",
       "gender                                            \n",
       "Female                35      45       27       42\n",
       "Male                  36      26       56       33"
      ]
     },
     "execution_count": 4,
     "metadata": {},
     "output_type": "execute_result"
    }
   ],
   "source": [
    "# Create a contingency table\n",
    "contingency_table = pd.crosstab(df[\"gender\"], df[\"food_preference\"])\n",
    "print(\"Contingency Table (Observed Frequencies):\")\n",
    "contingency_table"
   ]
  },
  {
   "cell_type": "code",
   "execution_count": 5,
   "id": "5d966edf",
   "metadata": {},
   "outputs": [
    {
     "data": {
      "image/png": "[encoded data removed]",
      "text/plain": [
       "<Figure size 1200x600 with 3 Axes>"
      ]
     },
     "metadata": {},
     "output_type": "display_data"
    },
    {
     "data": {
      "image/png": "[encoded data removed]",
      "text/plain": [
       "<Figure size 640x480 with 1 Axes>"
      ]
     },
     "metadata": {},
     "output_type": "display_data"
    }
   ],
   "source": [
    "# Visualize the data\n",
    "plt.figure(figsize=(12, 6))\n",
    "\n",
    "# Plot 1: Contingency table as heatmap\n",
    "plt.subplot(1, 2, 1)\n",
    "sns.heatmap(contingency_table, annot=True, cmap=\"YlGnBu\", fmt=\"d\")\n",
    "plt.title(\"Contingency Table Heatmap\")\n",
    "\n",
    "# Plot 2: Bar chart comparison\n",
    "plt.subplot(1, 2, 2)\n",
    "contingency_table.plot(kind=\"bar\", stacked=False)\n",
    "plt.title(\"Food Preference by Gender\")\n",
    "plt.xlabel(\"Gender\")\n",
    "plt.ylabel(\"Count\")\n",
    "plt.xticks(rotation=0)\n",
    "\n",
    "plt.tight_layout()\n",
    "plt.show()"
   ]
  },
  {
   "cell_type": "markdown",
   "id": "26e56769",
   "metadata": {},
   "source": [
    "## Chi-Squared Test Implementation\n",
    "\n",
    "### 1. Using SciPy Library"
   ]
  },
  {
   "cell_type": "code",
   "execution_count": 6,
   "id": "18b8cdd9",
   "metadata": {},
   "outputs": [],
   "source": [
    "def chi_squared_test_scipy(contingency_table, alpha=0.05):\n",
    "    \"\"\"\n",
    "    Perform chi-squared test using scipy.stats.\n",
    "\n",
    "    Parameters:\n",
    "    -----------\n",
    "    contingency_table : pandas.DataFrame or numpy.ndarray\n",
    "        The contingency table of observed frequencies\n",
    "    alpha : float, default=0.05\n",
    "        Significance level\n",
    "\n",
    "    Returns:\n",
    "    --------\n",
    "    dict\n",
    "        Dictionary containing test results\n",
    "    \"\"\"\n",
    "    # Perform chi-squared test\n",
    "    chi2_stat, p_value, dof, expected = chi2_contingency(contingency_table)\n",
    "\n",
    "    # Format expected frequencies table\n",
    "    if isinstance(contingency_table, pd.DataFrame):\n",
    "        expected_table = pd.DataFrame(\n",
    "            expected, index=contingency_table.index, columns=contingency_table.columns\n",
    "        )\n",
    "    else:\n",
    "        expected_table = expected\n",
    "\n",
    "    # Determine if we reject the null hypothesis\n",
    "    reject_null = p_value < alpha\n",
    "\n",
    "    # Critical value for given alpha and degrees of freedom\n",
    "    critical_value = chi2.ppf(1 - alpha, dof)\n",
    "\n",
    "    return {\n",
    "        \"chi2_statistic\": chi2_stat,\n",
    "        \"p_value\": p_value,\n",
    "        \"degrees_of_freedom\": dof,\n",
    "        \"expected_frequencies\": expected_table,\n",
    "        \"critical_value\": critical_value,\n",
    "        \"reject_null_hypothesis\": reject_null,\n",
    "        \"conclusion\": (\n",
    "            \"Reject null hypothesis (variables are dependent)\"\n",
    "            if reject_null\n",
    "            else \"Fail to reject null hypothesis (variables are independent)\"\n",
    "        ),\n",
    "    }"
   ]
  },
  {
   "cell_type": "code",
   "execution_count": 7,
   "id": "1515231b",
   "metadata": {},
   "outputs": [
    {
     "name": "stdout",
     "output_type": "stream",
     "text": [
      "Chi-Squared Test Results (SciPy):\n",
      "Chi-squared statistic: 16.2985\n",
      "P-value: 0.0010\n",
      "Degrees of freedom: 3\n",
      "Critical value (α=0.05): 7.8147\n",
      "Conclusion: Reject null hypothesis (variables are dependent)\n",
      "\n",
      "Expected Frequencies:\n"
     ]
    },
    {
     "data": {
      "application/vnd.microsoft.datawrangler.viewer.v0+json": {
       "columns": [
        {
         "name": "gender",
         "rawType": "object",
         "type": "string"
        },
        {
         "name": "Chinese",
         "rawType": "float64",
         "type": "float"
        },
        {
         "name": "Indian",
         "rawType": "float64",
         "type": "float"
        },
        {
         "name": "Italian",
         "rawType": "float64",
         "type": "float"
        },
        {
         "name": "Mexican",
         "rawType": "float64",
         "type": "float"
        }
       ],
       "conversionMethod": "pd.DataFrame",
       "ref": "d881a9ac-7dd6-4b14-9d7c-4d756cf204b6",
       "rows": [
        [
         "Female",
         "35.263333333333335",
         "35.263333333333335",
         "41.223333333333336",
         "37.25"
        ],
        [
         "Male",
         "35.736666666666665",
         "35.736666666666665",
         "41.776666666666664",
         "37.75"
        ]
       ],
       "shape": {
        "columns": 4,
        "rows": 2
       }
      },
      "text/html": [
       "<div>\n",
       "<style scoped>\n",
       "    .dataframe tbody tr th:only-of-type {\n",
       "        vertical-align: middle;\n",
       "    }\n",
       "\n",
       "    .dataframe tbody tr th {\n",
       "        vertical-align: top;\n",
       "    }\n",
       "\n",
       "    .dataframe thead th {\n",
       "        text-align: right;\n",
       "    }\n",
       "</style>\n",
       "<table border=\"1\" class=\"dataframe\">\n",
       "  <thead>\n",
       "    <tr style=\"text-align: right;\">\n",
       "      <th>food_preference</th>\n",
       "      <th>Chinese</th>\n",
       "      <th>Indian</th>\n",
       "      <th>Italian</th>\n",
       "      <th>Mexican</th>\n",
       "    </tr>\n",
       "    <tr>\n",
       "      <th>gender</th>\n",
       "      <th></th>\n",
       "      <th></th>\n",
       "      <th></th>\n",
       "      <th></th>\n",
       "    </tr>\n",
       "  </thead>\n",
       "  <tbody>\n",
       "    <tr>\n",
       "      <th>Female</th>\n",
       "      <td>35.263333</td>\n",
       "      <td>35.263333</td>\n",
       "      <td>41.223333</td>\n",
       "      <td>37.25</td>\n",
       "    </tr>\n",
       "    <tr>\n",
       "      <th>Male</th>\n",
       "      <td>35.736667</td>\n",
       "      <td>35.736667</td>\n",
       "      <td>41.776667</td>\n",
       "      <td>37.75</td>\n",
       "    </tr>\n",
       "  </tbody>\n",
       "</table>\n",
       "</div>"
      ],
      "text/plain": [
       "food_preference    Chinese     Indian    Italian  Mexican\n",
       "gender                                                   \n",
       "Female           35.263333  35.263333  41.223333    37.25\n",
       "Male             35.736667  35.736667  41.776667    37.75"
      ]
     },
     "execution_count": 7,
     "metadata": {},
     "output_type": "execute_result"
    }
   ],
   "source": [
    "# Run chi-squared test using SciPy\n",
    "scipy_results = chi_squared_test_scipy(contingency_table)\n",
    "\n",
    "# Display results\n",
    "print(\"Chi-Squared Test Results (SciPy):\")\n",
    "print(f\"Chi-squared statistic: {scipy_results['chi2_statistic']:.4f}\")\n",
    "print(f\"P-value: {scipy_results['p_value']:.4f}\")\n",
    "print(f\"Degrees of freedom: {scipy_results['degrees_of_freedom']}\")\n",
    "print(f\"Critical value (α=0.05): {scipy_results['critical_value']:.4f}\")\n",
    "print(f\"Conclusion: {scipy_results['conclusion']}\")\n",
    "\n",
    "print(\"\\nExpected Frequencies:\")\n",
    "scipy_results[\"expected_frequencies\"]"
   ]
  },
  {
   "cell_type": "markdown",
   "id": "fec22eee",
   "metadata": {},
   "source": [
    "### 2. Pure Python Implementation\n",
    "\n",
    "Now, let's implement the chi-squared test from scratch using Python."
   ]
  },
  {
   "cell_type": "code",
   "execution_count": 8,
   "id": "fd6dfe48",
   "metadata": {},
   "outputs": [],
   "source": [
    "def chi_squared_test_python(observed, alpha=0.05):\n",
    "    \"\"\"\n",
    "    Perform chi-squared test using pure Python.\n",
    "\n",
    "    Parameters:\n",
    "    -----------\n",
    "    observed : pandas.DataFrame or numpy.ndarray\n",
    "        The contingency table of observed frequencies\n",
    "    alpha : float, default=0.05\n",
    "        Significance level\n",
    "\n",
    "    Returns:\n",
    "    --------\n",
    "    dict\n",
    "        Dictionary containing test results\n",
    "    \"\"\"\n",
    "    # Convert to numpy array if it's a DataFrame\n",
    "    if isinstance(observed, pd.DataFrame):\n",
    "        observed_array = observed.values\n",
    "        row_names = observed.index\n",
    "        col_names = observed.columns\n",
    "    else:\n",
    "        observed_array = observed\n",
    "        row_names = range(observed.shape[0])\n",
    "        col_names = range(observed.shape[1])\n",
    "\n",
    "    # Get dimensions\n",
    "    n_rows, n_cols = observed_array.shape\n",
    "\n",
    "    # Calculate row and column totals\n",
    "    row_totals = observed_array.sum(axis=1)\n",
    "    col_totals = observed_array.sum(axis=0)\n",
    "    grand_total = observed_array.sum()\n",
    "\n",
    "    # Calculate expected frequencies\n",
    "    expected_array = np.zeros((n_rows, n_cols))\n",
    "    for i in range(n_rows):\n",
    "        for j in range(n_cols):\n",
    "            expected_array[i, j] = row_totals[i] * col_totals[j] / grand_total\n",
    "\n",
    "    # Create DataFrame for expected frequencies if input was DataFrame\n",
    "    if isinstance(observed, pd.DataFrame):\n",
    "        expected = pd.DataFrame(expected_array, index=row_names, columns=col_names)\n",
    "    else:\n",
    "        expected = expected_array\n",
    "\n",
    "    # Calculate chi-squared statistic\n",
    "    chi2_stat = 0\n",
    "    for i in range(n_rows):\n",
    "        for j in range(n_cols):\n",
    "            o = observed_array[i, j]\n",
    "            e = expected_array[i, j]\n",
    "            chi2_stat += (o - e) ** 2 / e\n",
    "\n",
    "    # Calculate degrees of freedom\n",
    "    dof = (n_rows - 1) * (n_cols - 1)\n",
    "\n",
    "    # Calculate p-value using scipy.stats.chi2\n",
    "    p_value = 1 - chi2.cdf(chi2_stat, dof)\n",
    "\n",
    "    # Critical value for given alpha and degrees of freedom\n",
    "    critical_value = chi2.ppf(1 - alpha, dof)\n",
    "\n",
    "    # Determine if we reject the null hypothesis\n",
    "    reject_null = p_value < alpha\n",
    "\n",
    "    return {\n",
    "        \"chi2_statistic\": chi2_stat,\n",
    "        \"p_value\": p_value,\n",
    "        \"degrees_of_freedom\": dof,\n",
    "        \"expected_frequencies\": expected,\n",
    "        \"critical_value\": critical_value,\n",
    "        \"reject_null_hypothesis\": reject_null,\n",
    "        \"conclusion\": (\n",
    "            \"Reject null hypothesis (variables are dependent)\"\n",
    "            if reject_null\n",
    "            else \"Fail to reject null hypothesis (variables are independent)\"\n",
    "        ),\n",
    "    }"
   ]
  },
  {
   "cell_type": "code",
   "execution_count": 9,
   "id": "3b4a7338",
   "metadata": {},
   "outputs": [
    {
     "name": "stdout",
     "output_type": "stream",
     "text": [
      "Chi-Squared Test Results (Pure Python):\n",
      "Chi-squared statistic: 16.2985\n",
      "P-value: 0.0010\n",
      "Degrees of freedom: 3\n",
      "Critical value (α=0.05): 7.8147\n",
      "Conclusion: Reject null hypothesis (variables are dependent)\n",
      "\n",
      "Expected Frequencies:\n"
     ]
    },
    {
     "data": {
      "application/vnd.microsoft.datawrangler.viewer.v0+json": {
       "columns": [
        {
         "name": "gender",
         "rawType": "object",
         "type": "string"
        },
        {
         "name": "Chinese",
         "rawType": "float64",
         "type": "float"
        },
        {
         "name": "Indian",
         "rawType": "float64",
         "type": "float"
        },
        {
         "name": "Italian",
         "rawType": "float64",
         "type": "float"
        },
        {
         "name": "Mexican",
         "rawType": "float64",
         "type": "float"
        }
       ],
       "conversionMethod": "pd.DataFrame",
       "ref": "636cb66e-6f12-4d14-adcd-8caf8cb1e6c6",
       "rows": [
        [
         "Female",
         "35.263333333333335",
         "35.263333333333335",
         "41.223333333333336",
         "37.25"
        ],
        [
         "Male",
         "35.736666666666665",
         "35.736666666666665",
         "41.776666666666664",
         "37.75"
        ]
       ],
       "shape": {
        "columns": 4,
        "rows": 2
       }
      },
      "text/html": [
       "<div>\n",
       "<style scoped>\n",
       "    .dataframe tbody tr th:only-of-type {\n",
       "        vertical-align: middle;\n",
       "    }\n",
       "\n",
       "    .dataframe tbody tr th {\n",
       "        vertical-align: top;\n",
       "    }\n",
       "\n",
       "    .dataframe thead th {\n",
       "        text-align: right;\n",
       "    }\n",
       "</style>\n",
       "<table border=\"1\" class=\"dataframe\">\n",
       "  <thead>\n",
       "    <tr style=\"text-align: right;\">\n",
       "      <th>food_preference</th>\n",
       "      <th>Chinese</th>\n",
       "      <th>Indian</th>\n",
       "      <th>Italian</th>\n",
       "      <th>Mexican</th>\n",
       "    </tr>\n",
       "    <tr>\n",
       "      <th>gender</th>\n",
       "      <th></th>\n",
       "      <th></th>\n",
       "      <th></th>\n",
       "      <th></th>\n",
       "    </tr>\n",
       "  </thead>\n",
       "  <tbody>\n",
       "    <tr>\n",
       "      <th>Female</th>\n",
       "      <td>35.263333</td>\n",
       "      <td>35.263333</td>\n",
       "      <td>41.223333</td>\n",
       "      <td>37.25</td>\n",
       "    </tr>\n",
       "    <tr>\n",
       "      <th>Male</th>\n",
       "      <td>35.736667</td>\n",
       "      <td>35.736667</td>\n",
       "      <td>41.776667</td>\n",
       "      <td>37.75</td>\n",
       "    </tr>\n",
       "  </tbody>\n",
       "</table>\n",
       "</div>"
      ],
      "text/plain": [
       "food_preference    Chinese     Indian    Italian  Mexican\n",
       "gender                                                   \n",
       "Female           35.263333  35.263333  41.223333    37.25\n",
       "Male             35.736667  35.736667  41.776667    37.75"
      ]
     },
     "execution_count": 9,
     "metadata": {},
     "output_type": "execute_result"
    }
   ],
   "source": [
    "# Run chi-squared test using pure Python\n",
    "python_results = chi_squared_test_python(contingency_table)\n",
    "\n",
    "# Display results\n",
    "print(\"Chi-Squared Test Results (Pure Python):\")\n",
    "print(f\"Chi-squared statistic: {python_results['chi2_statistic']:.4f}\")\n",
    "print(f\"P-value: {python_results['p_value']:.4f}\")\n",
    "print(f\"Degrees of freedom: {python_results['degrees_of_freedom']}\")\n",
    "print(f\"Critical value (α=0.05): {python_results['critical_value']:.4f}\")\n",
    "print(f\"Conclusion: {python_results['conclusion']}\")\n",
    "\n",
    "print(\"\\nExpected Frequencies:\")\n",
    "python_results[\"expected_frequencies\"]"
   ]
  },
  {
   "cell_type": "markdown",
   "id": "220e0121",
   "metadata": {},
   "source": [
    "## Compare Results\n",
    "\n",
    "Let's compare the results from both implementations to ensure they match:"
   ]
  },
  {
   "cell_type": "code",
   "execution_count": 10,
   "id": "a4e25114",
   "metadata": {},
   "outputs": [
    {
     "data": {
      "application/vnd.microsoft.datawrangler.viewer.v0+json": {
       "columns": [
        {
         "name": "index",
         "rawType": "object",
         "type": "string"
        },
        {
         "name": "Chi-squared statistic",
         "rawType": "float64",
         "type": "float"
        },
        {
         "name": "P-value",
         "rawType": "float64",
         "type": "float"
        }
       ],
       "conversionMethod": "pd.DataFrame",
       "ref": "c7bbaa67-52a7-45b4-bb4c-476b6e8f8f95",
       "rows": [
        [
         "SciPy",
         "16.29851271478725",
         "0.0009848648389641393"
        ],
        [
         "Python",
         "16.29851271478725",
         "0.0009848648389640946"
        ],
        [
         "Difference",
         "0.0",
         "4.466912950640278e-17"
        ]
       ],
       "shape": {
        "columns": 2,
        "rows": 3
       }
      },
      "text/html": [
       "<div>\n",
       "<style scoped>\n",
       "    .dataframe tbody tr th:only-of-type {\n",
       "        vertical-align: middle;\n",
       "    }\n",
       "\n",
       "    .dataframe tbody tr th {\n",
       "        vertical-align: top;\n",
       "    }\n",
       "\n",
       "    .dataframe thead th {\n",
       "        text-align: right;\n",
       "    }\n",
       "</style>\n",
       "<table border=\"1\" class=\"dataframe\">\n",
       "  <thead>\n",
       "    <tr style=\"text-align: right;\">\n",
       "      <th></th>\n",
       "      <th>Chi-squared statistic</th>\n",
       "      <th>P-value</th>\n",
       "    </tr>\n",
       "  </thead>\n",
       "  <tbody>\n",
       "    <tr>\n",
       "      <th>SciPy</th>\n",
       "      <td>16.298513</td>\n",
       "      <td>9.848648e-04</td>\n",
       "    </tr>\n",
       "    <tr>\n",
       "      <th>Python</th>\n",
       "      <td>16.298513</td>\n",
       "      <td>9.848648e-04</td>\n",
       "    </tr>\n",
       "    <tr>\n",
       "      <th>Difference</th>\n",
       "      <td>0.000000</td>\n",
       "      <td>4.466913e-17</td>\n",
       "    </tr>\n",
       "  </tbody>\n",
       "</table>\n",
       "</div>"
      ],
      "text/plain": [
       "            Chi-squared statistic       P-value\n",
       "SciPy                   16.298513  9.848648e-04\n",
       "Python                  16.298513  9.848648e-04\n",
       "Difference               0.000000  4.466913e-17"
      ]
     },
     "execution_count": 10,
     "metadata": {},
     "output_type": "execute_result"
    }
   ],
   "source": [
    "# Compare key statistics from both methods\n",
    "comparison = {\n",
    "    \"Chi-squared statistic\": {\n",
    "        \"SciPy\": scipy_results[\"chi2_statistic\"],\n",
    "        \"Python\": python_results[\"chi2_statistic\"],\n",
    "        \"Difference\": abs(\n",
    "            scipy_results[\"chi2_statistic\"] - python_results[\"chi2_statistic\"]\n",
    "        ),\n",
    "    },\n",
    "    \"P-value\": {\n",
    "        \"SciPy\": scipy_results[\"p_value\"],\n",
    "        \"Python\": python_results[\"p_value\"],\n",
    "        \"Difference\": abs(scipy_results[\"p_value\"] - python_results[\"p_value\"]),\n",
    "    },\n",
    "}\n",
    "\n",
    "comparison_df = pd.DataFrame(comparison)\n",
    "comparison_df"
   ]
  },
  {
   "cell_type": "markdown",
   "id": "e1b33ddd",
   "metadata": {},
   "source": [
    "## Example Usage with Different Parameters\n",
    "\n",
    "Let's demonstrate how to use the functions with different parameters."
   ]
  },
  {
   "cell_type": "code",
   "execution_count": 11,
   "id": "5a041735",
   "metadata": {},
   "outputs": [
    {
     "data": {
      "application/vnd.microsoft.datawrangler.viewer.v0+json": {
       "columns": [
        {
         "name": "index",
         "rawType": "int64",
         "type": "integer"
        },
        {
         "name": "education",
         "rawType": "object",
         "type": "string"
        },
        {
         "name": "income_level",
         "rawType": "object",
         "type": "string"
        }
       ],
       "conversionMethod": "pd.DataFrame",
       "ref": "71ee136a-236b-40b3-9870-055ea47b5c31",
       "rows": [
        [
         "0",
         "Master",
         "Low"
        ],
        [
         "1",
         "Bachelor",
         "Medium"
        ],
        [
         "2",
         "Master",
         "Low"
        ],
        [
         "3",
         "Master",
         "Low"
        ],
        [
         "4",
         "High School",
         "Medium"
        ]
       ],
       "shape": {
        "columns": 2,
        "rows": 5
       }
      },
      "text/html": [
       "<div>\n",
       "<style scoped>\n",
       "    .dataframe tbody tr th:only-of-type {\n",
       "        vertical-align: middle;\n",
       "    }\n",
       "\n",
       "    .dataframe tbody tr th {\n",
       "        vertical-align: top;\n",
       "    }\n",
       "\n",
       "    .dataframe thead th {\n",
       "        text-align: right;\n",
       "    }\n",
       "</style>\n",
       "<table border=\"1\" class=\"dataframe\">\n",
       "  <thead>\n",
       "    <tr style=\"text-align: right;\">\n",
       "      <th></th>\n",
       "      <th>education</th>\n",
       "      <th>income_level</th>\n",
       "    </tr>\n",
       "  </thead>\n",
       "  <tbody>\n",
       "    <tr>\n",
       "      <th>0</th>\n",
       "      <td>Master</td>\n",
       "      <td>Low</td>\n",
       "    </tr>\n",
       "    <tr>\n",
       "      <th>1</th>\n",
       "      <td>Bachelor</td>\n",
       "      <td>Medium</td>\n",
       "    </tr>\n",
       "    <tr>\n",
       "      <th>2</th>\n",
       "      <td>Master</td>\n",
       "      <td>Low</td>\n",
       "    </tr>\n",
       "    <tr>\n",
       "      <th>3</th>\n",
       "      <td>Master</td>\n",
       "      <td>Low</td>\n",
       "    </tr>\n",
       "    <tr>\n",
       "      <th>4</th>\n",
       "      <td>High School</td>\n",
       "      <td>Medium</td>\n",
       "    </tr>\n",
       "  </tbody>\n",
       "</table>\n",
       "</div>"
      ],
      "text/plain": [
       "     education income_level\n",
       "0       Master          Low\n",
       "1     Bachelor       Medium\n",
       "2       Master          Low\n",
       "3       Master          Low\n",
       "4  High School       Medium"
      ]
     },
     "execution_count": 11,
     "metadata": {},
     "output_type": "execute_result"
    }
   ],
   "source": [
    "# Create a dataset with custom categories\n",
    "custom_categories = {\n",
    "    \"education\": [\"High School\", \"Bachelor\", \"Master\", \"PhD\"],\n",
    "    \"income_level\": [\"Low\", \"Medium\", \"High\"],\n",
    "}\n",
    "\n",
    "# Generate dataset with 500 observations and strong dependency (0.7)\n",
    "df_custom = generate_chi_squared_dataset(\n",
    "    n_observations=500,\n",
    "    categories=custom_categories,\n",
    "    dependency_strength=0.7,\n",
    "    random_seed=123,\n",
    ")\n",
    "\n",
    "# Display the first few rows\n",
    "df_custom.head()"
   ]
  },
  {
   "cell_type": "code",
   "execution_count": 12,
   "id": "b8665ed4",
   "metadata": {},
   "outputs": [
    {
     "name": "stdout",
     "output_type": "stream",
     "text": [
      "Contingency Table:\n"
     ]
    },
    {
     "data": {
      "application/vnd.microsoft.datawrangler.viewer.v0+json": {
       "columns": [
        {
         "name": "education",
         "rawType": "object",
         "type": "string"
        },
        {
         "name": "High",
         "rawType": "int64",
         "type": "integer"
        },
        {
         "name": "Low",
         "rawType": "int64",
         "type": "integer"
        },
        {
         "name": "Medium",
         "rawType": "int64",
         "type": "integer"
        }
       ],
       "conversionMethod": "pd.DataFrame",
       "ref": "b42726fa-e769-46bc-9daa-08bd5570fa50",
       "rows": [
        [
         "Bachelor",
         "60",
         "14",
         "59"
        ],
        [
         "High School",
         "11",
         "45",
         "51"
        ],
        [
         "Master",
         "62",
         "61",
         "12"
        ],
        [
         "PhD",
         "12",
         "61",
         "52"
        ]
       ],
       "shape": {
        "columns": 3,
        "rows": 4
       }
      },
      "text/html": [
       "<div>\n",
       "<style scoped>\n",
       "    .dataframe tbody tr th:only-of-type {\n",
       "        vertical-align: middle;\n",
       "    }\n",
       "\n",
       "    .dataframe tbody tr th {\n",
       "        vertical-align: top;\n",
       "    }\n",
       "\n",
       "    .dataframe thead th {\n",
       "        text-align: right;\n",
       "    }\n",
       "</style>\n",
       "<table border=\"1\" class=\"dataframe\">\n",
       "  <thead>\n",
       "    <tr style=\"text-align: right;\">\n",
       "      <th>income_level</th>\n",
       "      <th>High</th>\n",
       "      <th>Low</th>\n",
       "      <th>Medium</th>\n",
       "    </tr>\n",
       "    <tr>\n",
       "      <th>education</th>\n",
       "      <th></th>\n",
       "      <th></th>\n",
       "      <th></th>\n",
       "    </tr>\n",
       "  </thead>\n",
       "  <tbody>\n",
       "    <tr>\n",
       "      <th>Bachelor</th>\n",
       "      <td>60</td>\n",
       "      <td>14</td>\n",
       "      <td>59</td>\n",
       "    </tr>\n",
       "    <tr>\n",
       "      <th>High School</th>\n",
       "      <td>11</td>\n",
       "      <td>45</td>\n",
       "      <td>51</td>\n",
       "    </tr>\n",
       "    <tr>\n",
       "      <th>Master</th>\n",
       "      <td>62</td>\n",
       "      <td>61</td>\n",
       "      <td>12</td>\n",
       "    </tr>\n",
       "    <tr>\n",
       "      <th>PhD</th>\n",
       "      <td>12</td>\n",
       "      <td>61</td>\n",
       "      <td>52</td>\n",
       "    </tr>\n",
       "  </tbody>\n",
       "</table>\n",
       "</div>"
      ],
      "text/plain": [
       "income_level  High  Low  Medium\n",
       "education                      \n",
       "Bachelor        60   14      59\n",
       "High School     11   45      51\n",
       "Master          62   61      12\n",
       "PhD             12   61      52"
      ]
     },
     "execution_count": 12,
     "metadata": {},
     "output_type": "execute_result"
    }
   ],
   "source": [
    "# Create contingency table\n",
    "custom_contingency = pd.crosstab(df_custom[\"education\"], df_custom[\"income_level\"])\n",
    "\n",
    "# Display contingency table\n",
    "print(\"Contingency Table:\")\n",
    "custom_contingency"
   ]
  },
  {
   "cell_type": "code",
   "execution_count": 13,
   "id": "4a073481",
   "metadata": {},
   "outputs": [
    {
     "data": {
      "image/png": "[encoded data removed]",
      "text/plain": [
       "<Figure size 1400x600 with 3 Axes>"
      ]
     },
     "metadata": {},
     "output_type": "display_data"
    },
    {
     "data": {
      "image/png": "[encoded data removed]",
      "text/plain": [
       "<Figure size 640x480 with 1 Axes>"
      ]
     },
     "metadata": {},
     "output_type": "display_data"
    }
   ],
   "source": [
    "# Visualize the data\n",
    "plt.figure(figsize=(14, 6))\n",
    "\n",
    "# Plot 1: Contingency table as heatmap\n",
    "plt.subplot(1, 2, 1)\n",
    "sns.heatmap(custom_contingency, annot=True, cmap=\"YlGnBu\", fmt=\"d\")\n",
    "plt.title(\"Education vs. Income Level Contingency Table\")\n",
    "\n",
    "# Plot 2: Bar chart comparison\n",
    "plt.subplot(1, 2, 2)\n",
    "custom_contingency.plot(kind=\"bar\", stacked=False)\n",
    "plt.title(\"Income Level by Education\")\n",
    "plt.xlabel(\"Education\")\n",
    "plt.ylabel(\"Count\")\n",
    "plt.xticks(rotation=45)\n",
    "\n",
    "plt.tight_layout()\n",
    "plt.show()"
   ]
  },
  {
   "cell_type": "code",
   "execution_count": 14,
   "id": "7ffe160d",
   "metadata": {},
   "outputs": [
    {
     "name": "stdout",
     "output_type": "stream",
     "text": [
      "Chi-Squared Test Results:\n",
      "Chi-squared statistic: 124.4059\n",
      "P-value: 0.0000\n",
      "Degrees of freedom: 6\n",
      "Conclusion: Reject null hypothesis (variables are dependent)\n",
      "\n",
      "Expected Frequencies:\n"
     ]
    },
    {
     "data": {
      "application/vnd.microsoft.datawrangler.viewer.v0+json": {
       "columns": [
        {
         "name": "education",
         "rawType": "object",
         "type": "string"
        },
        {
         "name": "High",
         "rawType": "float64",
         "type": "float"
        },
        {
         "name": "Low",
         "rawType": "float64",
         "type": "float"
        },
        {
         "name": "Medium",
         "rawType": "float64",
         "type": "float"
        }
       ],
       "conversionMethod": "pd.DataFrame",
       "ref": "3a28a995-ca77-4301-9261-8269432c2279",
       "rows": [
        [
         "Bachelor",
         "38.57",
         "48.146",
         "46.284"
        ],
        [
         "High School",
         "31.03",
         "38.734",
         "37.236"
        ],
        [
         "Master",
         "39.15",
         "48.87",
         "46.98"
        ],
        [
         "PhD",
         "36.25",
         "45.25",
         "43.5"
        ]
       ],
       "shape": {
        "columns": 3,
        "rows": 4
       }
      },
      "text/html": [
       "<div>\n",
       "<style scoped>\n",
       "    .dataframe tbody tr th:only-of-type {\n",
       "        vertical-align: middle;\n",
       "    }\n",
       "\n",
       "    .dataframe tbody tr th {\n",
       "        vertical-align: top;\n",
       "    }\n",
       "\n",
       "    .dataframe thead th {\n",
       "        text-align: right;\n",
       "    }\n",
       "</style>\n",
       "<table border=\"1\" class=\"dataframe\">\n",
       "  <thead>\n",
       "    <tr style=\"text-align: right;\">\n",
       "      <th>income_level</th>\n",
       "      <th>High</th>\n",
       "      <th>Low</th>\n",
       "      <th>Medium</th>\n",
       "    </tr>\n",
       "    <tr>\n",
       "      <th>education</th>\n",
       "      <th></th>\n",
       "      <th></th>\n",
       "      <th></th>\n",
       "    </tr>\n",
       "  </thead>\n",
       "  <tbody>\n",
       "    <tr>\n",
       "      <th>Bachelor</th>\n",
       "      <td>38.57</td>\n",
       "      <td>48.146</td>\n",
       "      <td>46.284</td>\n",
       "    </tr>\n",
       "    <tr>\n",
       "      <th>High School</th>\n",
       "      <td>31.03</td>\n",
       "      <td>38.734</td>\n",
       "      <td>37.236</td>\n",
       "    </tr>\n",
       "    <tr>\n",
       "      <th>Master</th>\n",
       "      <td>39.15</td>\n",
       "      <td>48.870</td>\n",
       "      <td>46.980</td>\n",
       "    </tr>\n",
       "    <tr>\n",
       "      <th>PhD</th>\n",
       "      <td>36.25</td>\n",
       "      <td>45.250</td>\n",
       "      <td>43.500</td>\n",
       "    </tr>\n",
       "  </tbody>\n",
       "</table>\n",
       "</div>"
      ],
      "text/plain": [
       "income_level   High     Low  Medium\n",
       "education                          \n",
       "Bachelor      38.57  48.146  46.284\n",
       "High School   31.03  38.734  37.236\n",
       "Master        39.15  48.870  46.980\n",
       "PhD           36.25  45.250  43.500"
      ]
     },
     "execution_count": 14,
     "metadata": {},
     "output_type": "execute_result"
    }
   ],
   "source": [
    "# Run chi-squared test on the custom dataset\n",
    "custom_results = chi_squared_test_python(custom_contingency)\n",
    "\n",
    "# Display results\n",
    "print(\"Chi-Squared Test Results:\")\n",
    "print(f\"Chi-squared statistic: {custom_results['chi2_statistic']:.4f}\")\n",
    "print(f\"P-value: {custom_results['p_value']:.4f}\")\n",
    "print(f\"Degrees of freedom: {custom_results['degrees_of_freedom']}\")\n",
    "print(f\"Conclusion: {custom_results['conclusion']}\")\n",
    "\n",
    "print(\"\\nExpected Frequencies:\")\n",
    "custom_results[\"expected_frequencies\"]"
   ]
  },
  {
   "cell_type": "markdown",
   "id": "002026ad",
   "metadata": {},
   "source": [
    "## Conclusion\n",
    "\n",
    "In this notebook, we have:\n",
    "\n",
    "1. Explained the theory behind the chi-squared test, including its formula and interpretation\n",
    "2. Created a flexible function to generate sample datasets for chi-squared testing with configurable parameters\n",
    "3. Implemented the chi-squared test using the SciPy library\n",
    "4. Implemented the chi-squared test from scratch using pure Python\n",
    "5. Compared both implementations to ensure accuracy\n",
    "6. Demonstrated how to use the functions with different parameters and categories\n",
    "\n",
    "The chi-squared test is a powerful tool for analyzing relationships between categorical variables and helps determine if observed patterns are likely due to chance or represent a significant association."
   ]
  },
  {
   "cell_type": "code",
   "execution_count": null,
   "id": "a1b2e735",
   "metadata": {},
   "outputs": [],
   "source": []
  }
 ],
 "metadata": {
  "kernelspec": {
   "display_name": "ai-playground",
   "language": "python",
   "name": "python3"
  },
  "language_info": {
   "codemirror_mode": {
    "name": "ipython",
    "version": 3
   },
   "file_extension": ".py",
   "mimetype": "text/x-python",
   "name": "python",
   "nbconvert_exporter": "python",
   "pygments_lexer": "ipython3",
   "version": "3.11.11"
  }
 },
 "nbformat": 4,
 "nbformat_minor": 5
}
