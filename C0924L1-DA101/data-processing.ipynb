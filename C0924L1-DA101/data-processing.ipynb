{
 "cells": [
  {
   "cell_type": "code",
   "execution_count": null,
   "id": "495abd68",
   "metadata": {},
   "outputs": [
    {
     "name": "stdout",
     "output_type": "stream",
     "text": [
      "<class 'pandas.core.frame.DataFrame'>\n"
     ]
    }
   ],
   "source": [
    "# import data `bird.csv` to pandas dataframe\n",
    "import pandas as pd\n",
    "\n",
    "df = pd.read_csv(\"bird.csv\")\n",
    "print(type(df))"
   ]
  },
  {
   "cell_type": "code",
   "execution_count": 2,
   "id": "dfb97925",
   "metadata": {},
   "outputs": [
    {
     "data": {
      "application/vnd.microsoft.datawrangler.viewer.v0+json": {
       "columns": [
        {
         "name": "index",
         "rawType": "int64",
         "type": "integer"
        },
        {
         "name": "no",
         "rawType": "int64",
         "type": "integer"
        },
        {
         "name": "species",
         "rawType": "object",
         "type": "string"
        },
        {
         "name": "island",
         "rawType": "object",
         "type": "string"
        },
        {
         "name": "bill_length_mm",
         "rawType": "float64",
         "type": "float"
        },
        {
         "name": "bill_depth_mm",
         "rawType": "float64",
         "type": "float"
        },
        {
         "name": "flipper_length_mm",
         "rawType": "float64",
         "type": "float"
        },
        {
         "name": "body_mass_g",
         "rawType": "float64",
         "type": "float"
        },
        {
         "name": "sex",
         "rawType": "object",
         "type": "unknown"
        }
       ],
       "conversionMethod": "pd.DataFrame",
       "ref": "a12602ee-9c5d-4e22-ac66-8cd533edaff1",
       "rows": [
        [
         "0",
         "0",
         "Adelie",
         "Torgersen",
         "39.1",
         "18.7",
         "181.0",
         "3750.0",
         "Male"
        ],
        [
         "1",
         "1",
         "Adelie",
         "Torgersen",
         "39.5",
         "17.4",
         "186.0",
         "3800.0",
         "Female"
        ],
        [
         "2",
         "2",
         "Adelie",
         "Torgersen",
         "40.3",
         "18.0",
         "195.0",
         "3250.0",
         "Female"
        ],
        [
         "3",
         "3",
         "Adelie",
         "Torgersen",
         null,
         null,
         null,
         null,
         null
        ],
        [
         "4",
         "4",
         "Adelie",
         "Torgersen",
         "36.7",
         "19.3",
         "193.0",
         "3450.0",
         "Female"
        ],
        [
         "5",
         "5",
         "Adelie",
         "Torgersen",
         "39.3",
         "20.6",
         "190.0",
         "3650.0",
         "Male"
        ],
        [
         "6",
         "6",
         "Adelie",
         "Torgersen",
         "38.9",
         "17.8",
         "181.0",
         "3625.0",
         "Female"
        ],
        [
         "7",
         "7",
         "Adelie",
         "Torgersen",
         "39.2",
         "19.6",
         "195.0",
         "4675.0",
         "Male"
        ],
        [
         "8",
         "8",
         "Adelie",
         "Torgersen",
         "34.1",
         "18.1",
         "193.0",
         "3475.0",
         null
        ],
        [
         "9",
         "9",
         "Adelie",
         "Torgersen",
         "42.0",
         "20.2",
         "190.0",
         "4250.0",
         null
        ],
        [
         "10",
         "10",
         "Adelie",
         "Torgersen",
         "37.8",
         "17.1",
         "186.0",
         "3300.0",
         null
        ],
        [
         "11",
         "11",
         "Adelie",
         "Torgersen",
         "37.8",
         "17.3",
         "180.0",
         "3700.0",
         null
        ],
        [
         "12",
         "12",
         "Adelie",
         "Torgersen",
         "41.1",
         "17.6",
         "182.0",
         "3200.0",
         "Female"
        ],
        [
         "13",
         "13",
         "Adelie",
         "Torgersen",
         "38.6",
         "21.2",
         "191.0",
         "3800.0",
         "Male"
        ],
        [
         "14",
         "14",
         "Adelie",
         "Torgersen",
         "34.6",
         "21.1",
         "198.0",
         "4400.0",
         "Male"
        ],
        [
         "15",
         "15",
         "Adelie",
         "Torgersen",
         "36.6",
         "17.8",
         "185.0",
         "3700.0",
         "Female"
        ],
        [
         "16",
         "16",
         "Adelie",
         "Torgersen",
         "38.7",
         "19.0",
         "195.0",
         "3450.0",
         "Female"
        ],
        [
         "17",
         "17",
         "Adelie",
         "Torgersen",
         "42.5",
         "20.7",
         "197.0",
         "4500.0",
         "Male"
        ],
        [
         "18",
         "18",
         "Adelie",
         "Torgersen",
         "34.4",
         "18.4",
         "184.0",
         "3325.0",
         "Female"
        ],
        [
         "19",
         "19",
         "Adelie",
         "Torgersen",
         "46.0",
         "21.5",
         "194.0",
         "4200.0",
         "Male"
        ],
        [
         "20",
         "20",
         "Adelie",
         "Biscoe",
         "37.8",
         "18.3",
         "174.0",
         "3400.0",
         "Female"
        ],
        [
         "21",
         "21",
         "Adelie",
         "Biscoe",
         "37.7",
         "18.7",
         "180.0",
         "3600.0",
         "Male"
        ],
        [
         "22",
         "22",
         "Adelie",
         "Biscoe",
         "35.9",
         "19.2",
         "189.0",
         "3800.0",
         "Female"
        ],
        [
         "23",
         "23",
         "Adelie",
         "Biscoe",
         "38.2",
         "18.1",
         "185.0",
         "3950.0",
         "Male"
        ],
        [
         "24",
         "24",
         "Adelie",
         "Biscoe",
         "38.8",
         "17.2",
         "180.0",
         "3800.0",
         "Male"
        ],
        [
         "25",
         "25",
         "Adelie",
         "Biscoe",
         "35.3",
         "18.9",
         "187.0",
         "3800.0",
         "Female"
        ],
        [
         "26",
         "26",
         "Adelie",
         "Biscoe",
         "40.6",
         "18.6",
         "183.0",
         "3550.0",
         "Male"
        ],
        [
         "27",
         "27",
         "Adelie",
         "Biscoe",
         "40.5",
         "17.9",
         "187.0",
         "3200.0",
         "Female"
        ],
        [
         "28",
         "28",
         "Adelie",
         "Biscoe",
         "37.9",
         "18.6",
         "172.0",
         "3150.0",
         "Female"
        ],
        [
         "29",
         "29",
         "Adelie",
         "Biscoe",
         "40.5",
         "18.9",
         "180.0",
         "3950.0",
         "Male"
        ],
        [
         "30",
         "30",
         "Adelie",
         "Dream",
         "39.5",
         "16.7",
         "178.0",
         "3250.0",
         "Female"
        ],
        [
         "31",
         "31",
         "Adelie",
         "Dream",
         "37.2",
         "18.1",
         "178.0",
         "3900.0",
         "Male"
        ],
        [
         "32",
         "32",
         "Adelie",
         "Dream",
         "39.5",
         "17.8",
         "188.0",
         "3300.0",
         "Female"
        ],
        [
         "33",
         "33",
         "Adelie",
         "Dream",
         "40.9",
         "18.9",
         "184.0",
         "3900.0",
         "Male"
        ],
        [
         "34",
         "34",
         "Adelie",
         "Dream",
         "36.4",
         "17.0",
         "195.0",
         "3325.0",
         "Female"
        ],
        [
         "35",
         "35",
         "Adelie",
         "Dream",
         "39.2",
         "21.1",
         "196.0",
         "4150.0",
         "Male"
        ],
        [
         "36",
         "36",
         "Adelie",
         "Dream",
         "38.8",
         "20.0",
         "190.0",
         "3950.0",
         "Male"
        ],
        [
         "37",
         "37",
         "Adelie",
         "Dream",
         "42.2",
         "18.5",
         "180.0",
         "3550.0",
         "Female"
        ],
        [
         "38",
         "38",
         "Adelie",
         "Dream",
         "37.6",
         "19.3",
         "181.0",
         "3300.0",
         "Female"
        ],
        [
         "39",
         "39",
         "Adelie",
         "Dream",
         "39.8",
         "19.1",
         "184.0",
         "4650.0",
         "Male"
        ],
        [
         "40",
         "40",
         "Adelie",
         "Dream",
         "36.5",
         "18.0",
         "182.0",
         "3150.0",
         "Female"
        ],
        [
         "41",
         "41",
         "Adelie",
         "Dream",
         "40.8",
         "18.4",
         "195.0",
         "3900.0",
         "Male"
        ],
        [
         "42",
         "42",
         "Adelie",
         "Dream",
         "36.0",
         "18.5",
         "186.0",
         "3100.0",
         "Female"
        ],
        [
         "43",
         "43",
         "Adelie",
         "Dream",
         "44.1",
         "19.7",
         "196.0",
         "4400.0",
         "Male"
        ],
        [
         "44",
         "44",
         "Adelie",
         "Dream",
         "37.0",
         "16.9",
         "185.0",
         "3000.0",
         "Female"
        ],
        [
         "45",
         "45",
         "Adelie",
         "Dream",
         "39.6",
         "18.8",
         "190.0",
         "4600.0",
         "Male"
        ],
        [
         "46",
         "46",
         "Adelie",
         "Dream",
         "41.1",
         "19.0",
         "182.0",
         "3425.0",
         "Male"
        ],
        [
         "47",
         "47",
         "Adelie",
         "Dream",
         "37.5",
         "18.9",
         "179.0",
         "2975.0",
         null
        ],
        [
         "48",
         "48",
         "Adelie",
         "Dream",
         "36.0",
         "17.9",
         "190.0",
         "3450.0",
         "Female"
        ],
        [
         "49",
         "49",
         "Adelie",
         "Dream",
         "42.3",
         "21.2",
         "191.0",
         "4150.0",
         "Male"
        ]
       ],
       "shape": {
        "columns": 8,
        "rows": 344
       }
      },
      "text/html": [
       "<div>\n",
       "<style scoped>\n",
       "    .dataframe tbody tr th:only-of-type {\n",
       "        vertical-align: middle;\n",
       "    }\n",
       "\n",
       "    .dataframe tbody tr th {\n",
       "        vertical-align: top;\n",
       "    }\n",
       "\n",
       "    .dataframe thead th {\n",
       "        text-align: right;\n",
       "    }\n",
       "</style>\n",
       "<table border=\"1\" class=\"dataframe\">\n",
       "  <thead>\n",
       "    <tr style=\"text-align: right;\">\n",
       "      <th></th>\n",
       "      <th>no</th>\n",
       "      <th>species</th>\n",
       "      <th>island</th>\n",
       "      <th>bill_length_mm</th>\n",
       "      <th>bill_depth_mm</th>\n",
       "      <th>flipper_length_mm</th>\n",
       "      <th>body_mass_g</th>\n",
       "      <th>sex</th>\n",
       "    </tr>\n",
       "  </thead>\n",
       "  <tbody>\n",
       "    <tr>\n",
       "      <th>0</th>\n",
       "      <td>0</td>\n",
       "      <td>Adelie</td>\n",
       "      <td>Torgersen</td>\n",
       "      <td>39.1</td>\n",
       "      <td>18.7</td>\n",
       "      <td>181.0</td>\n",
       "      <td>3750.0</td>\n",
       "      <td>Male</td>\n",
       "    </tr>\n",
       "    <tr>\n",
       "      <th>1</th>\n",
       "      <td>1</td>\n",
       "      <td>Adelie</td>\n",
       "      <td>Torgersen</td>\n",
       "      <td>39.5</td>\n",
       "      <td>17.4</td>\n",
       "      <td>186.0</td>\n",
       "      <td>3800.0</td>\n",
       "      <td>Female</td>\n",
       "    </tr>\n",
       "    <tr>\n",
       "      <th>2</th>\n",
       "      <td>2</td>\n",
       "      <td>Adelie</td>\n",
       "      <td>Torgersen</td>\n",
       "      <td>40.3</td>\n",
       "      <td>18.0</td>\n",
       "      <td>195.0</td>\n",
       "      <td>3250.0</td>\n",
       "      <td>Female</td>\n",
       "    </tr>\n",
       "    <tr>\n",
       "      <th>3</th>\n",
       "      <td>3</td>\n",
       "      <td>Adelie</td>\n",
       "      <td>Torgersen</td>\n",
       "      <td>NaN</td>\n",
       "      <td>NaN</td>\n",
       "      <td>NaN</td>\n",
       "      <td>NaN</td>\n",
       "      <td>NaN</td>\n",
       "    </tr>\n",
       "    <tr>\n",
       "      <th>4</th>\n",
       "      <td>4</td>\n",
       "      <td>Adelie</td>\n",
       "      <td>Torgersen</td>\n",
       "      <td>36.7</td>\n",
       "      <td>19.3</td>\n",
       "      <td>193.0</td>\n",
       "      <td>3450.0</td>\n",
       "      <td>Female</td>\n",
       "    </tr>\n",
       "    <tr>\n",
       "      <th>...</th>\n",
       "      <td>...</td>\n",
       "      <td>...</td>\n",
       "      <td>...</td>\n",
       "      <td>...</td>\n",
       "      <td>...</td>\n",
       "      <td>...</td>\n",
       "      <td>...</td>\n",
       "      <td>...</td>\n",
       "    </tr>\n",
       "    <tr>\n",
       "      <th>339</th>\n",
       "      <td>339</td>\n",
       "      <td>Gentoo</td>\n",
       "      <td>Biscoe</td>\n",
       "      <td>NaN</td>\n",
       "      <td>NaN</td>\n",
       "      <td>NaN</td>\n",
       "      <td>NaN</td>\n",
       "      <td>NaN</td>\n",
       "    </tr>\n",
       "    <tr>\n",
       "      <th>340</th>\n",
       "      <td>340</td>\n",
       "      <td>Gentoo</td>\n",
       "      <td>Biscoe</td>\n",
       "      <td>46.8</td>\n",
       "      <td>14.3</td>\n",
       "      <td>215.0</td>\n",
       "      <td>4850.0</td>\n",
       "      <td>Female</td>\n",
       "    </tr>\n",
       "    <tr>\n",
       "      <th>341</th>\n",
       "      <td>341</td>\n",
       "      <td>Gentoo</td>\n",
       "      <td>Biscoe</td>\n",
       "      <td>50.4</td>\n",
       "      <td>15.7</td>\n",
       "      <td>222.0</td>\n",
       "      <td>5750.0</td>\n",
       "      <td>Male</td>\n",
       "    </tr>\n",
       "    <tr>\n",
       "      <th>342</th>\n",
       "      <td>342</td>\n",
       "      <td>Gentoo</td>\n",
       "      <td>Biscoe</td>\n",
       "      <td>45.2</td>\n",
       "      <td>14.8</td>\n",
       "      <td>212.0</td>\n",
       "      <td>5200.0</td>\n",
       "      <td>Female</td>\n",
       "    </tr>\n",
       "    <tr>\n",
       "      <th>343</th>\n",
       "      <td>343</td>\n",
       "      <td>Gentoo</td>\n",
       "      <td>Biscoe</td>\n",
       "      <td>49.9</td>\n",
       "      <td>16.1</td>\n",
       "      <td>213.0</td>\n",
       "      <td>5400.0</td>\n",
       "      <td>Male</td>\n",
       "    </tr>\n",
       "  </tbody>\n",
       "</table>\n",
       "<p>344 rows × 8 columns</p>\n",
       "</div>"
      ],
      "text/plain": [
       "      no species     island  bill_length_mm  bill_depth_mm  flipper_length_mm  \\\n",
       "0      0  Adelie  Torgersen            39.1           18.7              181.0   \n",
       "1      1  Adelie  Torgersen            39.5           17.4              186.0   \n",
       "2      2  Adelie  Torgersen            40.3           18.0              195.0   \n",
       "3      3  Adelie  Torgersen             NaN            NaN                NaN   \n",
       "4      4  Adelie  Torgersen            36.7           19.3              193.0   \n",
       "..   ...     ...        ...             ...            ...                ...   \n",
       "339  339  Gentoo     Biscoe             NaN            NaN                NaN   \n",
       "340  340  Gentoo     Biscoe            46.8           14.3              215.0   \n",
       "341  341  Gentoo     Biscoe            50.4           15.7              222.0   \n",
       "342  342  Gentoo     Biscoe            45.2           14.8              212.0   \n",
       "343  343  Gentoo     Biscoe            49.9           16.1              213.0   \n",
       "\n",
       "     body_mass_g     sex  \n",
       "0         3750.0    Male  \n",
       "1         3800.0  Female  \n",
       "2         3250.0  Female  \n",
       "3            NaN     NaN  \n",
       "4         3450.0  Female  \n",
       "..           ...     ...  \n",
       "339          NaN     NaN  \n",
       "340       4850.0  Female  \n",
       "341       5750.0    Male  \n",
       "342       5200.0  Female  \n",
       "343       5400.0    Male  \n",
       "\n",
       "[344 rows x 8 columns]"
      ]
     },
     "execution_count": 2,
     "metadata": {},
     "output_type": "execute_result"
    }
   ],
   "source": [
    "df"
   ]
  },
  {
   "cell_type": "code",
   "execution_count": 3,
   "id": "45c06975",
   "metadata": {},
   "outputs": [
    {
     "name": "stdout",
     "output_type": "stream",
     "text": [
      "no                     int64\n",
      "species               object\n",
      "island                object\n",
      "bill_length_mm       float64\n",
      "bill_depth_mm        float64\n",
      "flipper_length_mm    float64\n",
      "body_mass_g          float64\n",
      "sex                   object\n",
      "dtype: object\n"
     ]
    }
   ],
   "source": [
    "# show data type of each column from `df`\n",
    "print(df.dtypes)"
   ]
  },
  {
   "cell_type": "code",
   "execution_count": 4,
   "id": "1ecd4214",
   "metadata": {},
   "outputs": [
    {
     "name": "stdout",
     "output_type": "stream",
     "text": [
      "               no  bill_length_mm  bill_depth_mm  flipper_length_mm  \\\n",
      "count  344.000000      342.000000     342.000000         342.000000   \n",
      "mean   171.500000       43.921930      17.151170         200.915205   \n",
      "std     99.448479        5.459584       1.974793          14.061714   \n",
      "min      0.000000       32.100000      13.100000         172.000000   \n",
      "25%     85.750000       39.225000      15.600000         190.000000   \n",
      "50%    171.500000       44.450000      17.300000         197.000000   \n",
      "75%    257.250000       48.500000      18.700000         213.000000   \n",
      "max    343.000000       59.600000      21.500000         231.000000   \n",
      "\n",
      "       body_mass_g  \n",
      "count   342.000000  \n",
      "mean   4201.754386  \n",
      "std     801.954536  \n",
      "min    2700.000000  \n",
      "25%    3550.000000  \n",
      "50%    4050.000000  \n",
      "75%    4750.000000  \n",
      "max    6300.000000  \n"
     ]
    }
   ],
   "source": [
    "# describe the data from `df`\n",
    "print(df.describe())"
   ]
  },
  {
   "cell_type": "code",
   "execution_count": 7,
   "id": "94c77b6a",
   "metadata": {},
   "outputs": [
    {
     "data": {
      "application/vnd.microsoft.datawrangler.viewer.v0+json": {
       "columns": [
        {
         "name": "index",
         "rawType": "int64",
         "type": "integer"
        },
        {
         "name": "no",
         "rawType": "int64",
         "type": "integer"
        },
        {
         "name": "species",
         "rawType": "object",
         "type": "string"
        },
        {
         "name": "island",
         "rawType": "object",
         "type": "string"
        },
        {
         "name": "bill_length_mm",
         "rawType": "float64",
         "type": "float"
        },
        {
         "name": "bill_depth_mm",
         "rawType": "float64",
         "type": "float"
        },
        {
         "name": "flipper_length_mm",
         "rawType": "float64",
         "type": "float"
        },
        {
         "name": "body_mass_g",
         "rawType": "float64",
         "type": "float"
        },
        {
         "name": "sex",
         "rawType": "object",
         "type": "string"
        }
       ],
       "conversionMethod": "pd.DataFrame",
       "ref": "50831c4a-9178-4591-966f-1c540834f19c",
       "rows": [
        [
         "0",
         "0",
         "Adelie",
         "Torgersen",
         "39.1",
         "18.7",
         "181.0",
         "3750.0",
         "Male"
        ],
        [
         "1",
         "1",
         "Adelie",
         "Torgersen",
         "39.5",
         "17.4",
         "186.0",
         "3800.0",
         "Female"
        ]
       ],
       "shape": {
        "columns": 8,
        "rows": 2
       }
      },
      "text/html": [
       "<div>\n",
       "<style scoped>\n",
       "    .dataframe tbody tr th:only-of-type {\n",
       "        vertical-align: middle;\n",
       "    }\n",
       "\n",
       "    .dataframe tbody tr th {\n",
       "        vertical-align: top;\n",
       "    }\n",
       "\n",
       "    .dataframe thead th {\n",
       "        text-align: right;\n",
       "    }\n",
       "</style>\n",
       "<table border=\"1\" class=\"dataframe\">\n",
       "  <thead>\n",
       "    <tr style=\"text-align: right;\">\n",
       "      <th></th>\n",
       "      <th>no</th>\n",
       "      <th>species</th>\n",
       "      <th>island</th>\n",
       "      <th>bill_length_mm</th>\n",
       "      <th>bill_depth_mm</th>\n",
       "      <th>flipper_length_mm</th>\n",
       "      <th>body_mass_g</th>\n",
       "      <th>sex</th>\n",
       "    </tr>\n",
       "  </thead>\n",
       "  <tbody>\n",
       "    <tr>\n",
       "      <th>0</th>\n",
       "      <td>0</td>\n",
       "      <td>Adelie</td>\n",
       "      <td>Torgersen</td>\n",
       "      <td>39.1</td>\n",
       "      <td>18.7</td>\n",
       "      <td>181.0</td>\n",
       "      <td>3750.0</td>\n",
       "      <td>Male</td>\n",
       "    </tr>\n",
       "    <tr>\n",
       "      <th>1</th>\n",
       "      <td>1</td>\n",
       "      <td>Adelie</td>\n",
       "      <td>Torgersen</td>\n",
       "      <td>39.5</td>\n",
       "      <td>17.4</td>\n",
       "      <td>186.0</td>\n",
       "      <td>3800.0</td>\n",
       "      <td>Female</td>\n",
       "    </tr>\n",
       "  </tbody>\n",
       "</table>\n",
       "</div>"
      ],
      "text/plain": [
       "   no species     island  bill_length_mm  bill_depth_mm  flipper_length_mm  \\\n",
       "0   0  Adelie  Torgersen            39.1           18.7              181.0   \n",
       "1   1  Adelie  Torgersen            39.5           17.4              186.0   \n",
       "\n",
       "   body_mass_g     sex  \n",
       "0       3750.0    Male  \n",
       "1       3800.0  Female  "
      ]
     },
     "execution_count": 7,
     "metadata": {},
     "output_type": "execute_result"
    }
   ],
   "source": [
    "df.head(n=2)"
   ]
  },
  {
   "cell_type": "code",
   "execution_count": 6,
   "id": "04de59ba",
   "metadata": {},
   "outputs": [
    {
     "data": {
      "application/vnd.microsoft.datawrangler.viewer.v0+json": {
       "columns": [
        {
         "name": "index",
         "rawType": "int64",
         "type": "integer"
        },
        {
         "name": "no",
         "rawType": "int64",
         "type": "integer"
        },
        {
         "name": "species",
         "rawType": "object",
         "type": "string"
        },
        {
         "name": "island",
         "rawType": "object",
         "type": "string"
        },
        {
         "name": "bill_length_mm",
         "rawType": "float64",
         "type": "float"
        },
        {
         "name": "bill_depth_mm",
         "rawType": "float64",
         "type": "float"
        },
        {
         "name": "flipper_length_mm",
         "rawType": "float64",
         "type": "float"
        },
        {
         "name": "body_mass_g",
         "rawType": "float64",
         "type": "float"
        },
        {
         "name": "sex",
         "rawType": "object",
         "type": "unknown"
        }
       ],
       "conversionMethod": "pd.DataFrame",
       "ref": "f97bc016-7c7f-4c54-a458-daea60d515a1",
       "rows": [
        [
         "339",
         "339",
         "Gentoo",
         "Biscoe",
         null,
         null,
         null,
         null,
         null
        ],
        [
         "340",
         "340",
         "Gentoo",
         "Biscoe",
         "46.8",
         "14.3",
         "215.0",
         "4850.0",
         "Female"
        ],
        [
         "341",
         "341",
         "Gentoo",
         "Biscoe",
         "50.4",
         "15.7",
         "222.0",
         "5750.0",
         "Male"
        ],
        [
         "342",
         "342",
         "Gentoo",
         "Biscoe",
         "45.2",
         "14.8",
         "212.0",
         "5200.0",
         "Female"
        ],
        [
         "343",
         "343",
         "Gentoo",
         "Biscoe",
         "49.9",
         "16.1",
         "213.0",
         "5400.0",
         "Male"
        ]
       ],
       "shape": {
        "columns": 8,
        "rows": 5
       }
      },
      "text/html": [
       "<div>\n",
       "<style scoped>\n",
       "    .dataframe tbody tr th:only-of-type {\n",
       "        vertical-align: middle;\n",
       "    }\n",
       "\n",
       "    .dataframe tbody tr th {\n",
       "        vertical-align: top;\n",
       "    }\n",
       "\n",
       "    .dataframe thead th {\n",
       "        text-align: right;\n",
       "    }\n",
       "</style>\n",
       "<table border=\"1\" class=\"dataframe\">\n",
       "  <thead>\n",
       "    <tr style=\"text-align: right;\">\n",
       "      <th></th>\n",
       "      <th>no</th>\n",
       "      <th>species</th>\n",
       "      <th>island</th>\n",
       "      <th>bill_length_mm</th>\n",
       "      <th>bill_depth_mm</th>\n",
       "      <th>flipper_length_mm</th>\n",
       "      <th>body_mass_g</th>\n",
       "      <th>sex</th>\n",
       "    </tr>\n",
       "  </thead>\n",
       "  <tbody>\n",
       "    <tr>\n",
       "      <th>339</th>\n",
       "      <td>339</td>\n",
       "      <td>Gentoo</td>\n",
       "      <td>Biscoe</td>\n",
       "      <td>NaN</td>\n",
       "      <td>NaN</td>\n",
       "      <td>NaN</td>\n",
       "      <td>NaN</td>\n",
       "      <td>NaN</td>\n",
       "    </tr>\n",
       "    <tr>\n",
       "      <th>340</th>\n",
       "      <td>340</td>\n",
       "      <td>Gentoo</td>\n",
       "      <td>Biscoe</td>\n",
       "      <td>46.8</td>\n",
       "      <td>14.3</td>\n",
       "      <td>215.0</td>\n",
       "      <td>4850.0</td>\n",
       "      <td>Female</td>\n",
       "    </tr>\n",
       "    <tr>\n",
       "      <th>341</th>\n",
       "      <td>341</td>\n",
       "      <td>Gentoo</td>\n",
       "      <td>Biscoe</td>\n",
       "      <td>50.4</td>\n",
       "      <td>15.7</td>\n",
       "      <td>222.0</td>\n",
       "      <td>5750.0</td>\n",
       "      <td>Male</td>\n",
       "    </tr>\n",
       "    <tr>\n",
       "      <th>342</th>\n",
       "      <td>342</td>\n",
       "      <td>Gentoo</td>\n",
       "      <td>Biscoe</td>\n",
       "      <td>45.2</td>\n",
       "      <td>14.8</td>\n",
       "      <td>212.0</td>\n",
       "      <td>5200.0</td>\n",
       "      <td>Female</td>\n",
       "    </tr>\n",
       "    <tr>\n",
       "      <th>343</th>\n",
       "      <td>343</td>\n",
       "      <td>Gentoo</td>\n",
       "      <td>Biscoe</td>\n",
       "      <td>49.9</td>\n",
       "      <td>16.1</td>\n",
       "      <td>213.0</td>\n",
       "      <td>5400.0</td>\n",
       "      <td>Male</td>\n",
       "    </tr>\n",
       "  </tbody>\n",
       "</table>\n",
       "</div>"
      ],
      "text/plain": [
       "      no species  island  bill_length_mm  bill_depth_mm  flipper_length_mm  \\\n",
       "339  339  Gentoo  Biscoe             NaN            NaN                NaN   \n",
       "340  340  Gentoo  Biscoe            46.8           14.3              215.0   \n",
       "341  341  Gentoo  Biscoe            50.4           15.7              222.0   \n",
       "342  342  Gentoo  Biscoe            45.2           14.8              212.0   \n",
       "343  343  Gentoo  Biscoe            49.9           16.1              213.0   \n",
       "\n",
       "     body_mass_g     sex  \n",
       "339          NaN     NaN  \n",
       "340       4850.0  Female  \n",
       "341       5750.0    Male  \n",
       "342       5200.0  Female  \n",
       "343       5400.0    Male  "
      ]
     },
     "execution_count": 6,
     "metadata": {},
     "output_type": "execute_result"
    }
   ],
   "source": [
    "df.tail()"
   ]
  },
  {
   "cell_type": "code",
   "execution_count": 8,
   "id": "cb1c892b",
   "metadata": {},
   "outputs": [
    {
     "data": {
      "application/vnd.microsoft.datawrangler.viewer.v0+json": {
       "columns": [
        {
         "name": "index",
         "rawType": "int64",
         "type": "integer"
        },
        {
         "name": "no",
         "rawType": "int64",
         "type": "integer"
        },
        {
         "name": "species",
         "rawType": "object",
         "type": "string"
        },
        {
         "name": "island",
         "rawType": "object",
         "type": "string"
        },
        {
         "name": "bill_length_mm",
         "rawType": "float64",
         "type": "float"
        },
        {
         "name": "bill_depth_mm",
         "rawType": "float64",
         "type": "float"
        },
        {
         "name": "flipper_length_mm",
         "rawType": "float64",
         "type": "float"
        },
        {
         "name": "body_mass_g",
         "rawType": "float64",
         "type": "float"
        },
        {
         "name": "sex",
         "rawType": "object",
         "type": "unknown"
        }
       ],
       "conversionMethod": "pd.DataFrame",
       "ref": "a73cc6d7-241c-4f77-82df-72cbe17ad1f2",
       "rows": [
        [
         "222",
         "222",
         "Gentoo",
         "Biscoe",
         "48.7",
         "14.1",
         "210.0",
         "4450.0",
         "Female"
        ],
        [
         "101",
         "101",
         "Adelie",
         "Biscoe",
         "41.0",
         "20.0",
         "203.0",
         "4725.0",
         "Male"
        ],
        [
         "286",
         "286",
         "Gentoo",
         "Biscoe",
         "46.2",
         "14.4",
         "214.0",
         "4650.0",
         null
        ],
        [
         "303",
         "303",
         "Gentoo",
         "Biscoe",
         "50.0",
         "15.9",
         "224.0",
         "5350.0",
         "Male"
        ],
        [
         "221",
         "221",
         "Gentoo",
         "Biscoe",
         "50.0",
         "16.3",
         "230.0",
         "5700.0",
         "Male"
        ]
       ],
       "shape": {
        "columns": 8,
        "rows": 5
       }
      },
      "text/html": [
       "<div>\n",
       "<style scoped>\n",
       "    .dataframe tbody tr th:only-of-type {\n",
       "        vertical-align: middle;\n",
       "    }\n",
       "\n",
       "    .dataframe tbody tr th {\n",
       "        vertical-align: top;\n",
       "    }\n",
       "\n",
       "    .dataframe thead th {\n",
       "        text-align: right;\n",
       "    }\n",
       "</style>\n",
       "<table border=\"1\" class=\"dataframe\">\n",
       "  <thead>\n",
       "    <tr style=\"text-align: right;\">\n",
       "      <th></th>\n",
       "      <th>no</th>\n",
       "      <th>species</th>\n",
       "      <th>island</th>\n",
       "      <th>bill_length_mm</th>\n",
       "      <th>bill_depth_mm</th>\n",
       "      <th>flipper_length_mm</th>\n",
       "      <th>body_mass_g</th>\n",
       "      <th>sex</th>\n",
       "    </tr>\n",
       "  </thead>\n",
       "  <tbody>\n",
       "    <tr>\n",
       "      <th>222</th>\n",
       "      <td>222</td>\n",
       "      <td>Gentoo</td>\n",
       "      <td>Biscoe</td>\n",
       "      <td>48.7</td>\n",
       "      <td>14.1</td>\n",
       "      <td>210.0</td>\n",
       "      <td>4450.0</td>\n",
       "      <td>Female</td>\n",
       "    </tr>\n",
       "    <tr>\n",
       "      <th>101</th>\n",
       "      <td>101</td>\n",
       "      <td>Adelie</td>\n",
       "      <td>Biscoe</td>\n",
       "      <td>41.0</td>\n",
       "      <td>20.0</td>\n",
       "      <td>203.0</td>\n",
       "      <td>4725.0</td>\n",
       "      <td>Male</td>\n",
       "    </tr>\n",
       "    <tr>\n",
       "      <th>286</th>\n",
       "      <td>286</td>\n",
       "      <td>Gentoo</td>\n",
       "      <td>Biscoe</td>\n",
       "      <td>46.2</td>\n",
       "      <td>14.4</td>\n",
       "      <td>214.0</td>\n",
       "      <td>4650.0</td>\n",
       "      <td>NaN</td>\n",
       "    </tr>\n",
       "    <tr>\n",
       "      <th>303</th>\n",
       "      <td>303</td>\n",
       "      <td>Gentoo</td>\n",
       "      <td>Biscoe</td>\n",
       "      <td>50.0</td>\n",
       "      <td>15.9</td>\n",
       "      <td>224.0</td>\n",
       "      <td>5350.0</td>\n",
       "      <td>Male</td>\n",
       "    </tr>\n",
       "    <tr>\n",
       "      <th>221</th>\n",
       "      <td>221</td>\n",
       "      <td>Gentoo</td>\n",
       "      <td>Biscoe</td>\n",
       "      <td>50.0</td>\n",
       "      <td>16.3</td>\n",
       "      <td>230.0</td>\n",
       "      <td>5700.0</td>\n",
       "      <td>Male</td>\n",
       "    </tr>\n",
       "  </tbody>\n",
       "</table>\n",
       "</div>"
      ],
      "text/plain": [
       "      no species  island  bill_length_mm  bill_depth_mm  flipper_length_mm  \\\n",
       "222  222  Gentoo  Biscoe            48.7           14.1              210.0   \n",
       "101  101  Adelie  Biscoe            41.0           20.0              203.0   \n",
       "286  286  Gentoo  Biscoe            46.2           14.4              214.0   \n",
       "303  303  Gentoo  Biscoe            50.0           15.9              224.0   \n",
       "221  221  Gentoo  Biscoe            50.0           16.3              230.0   \n",
       "\n",
       "     body_mass_g     sex  \n",
       "222       4450.0  Female  \n",
       "101       4725.0    Male  \n",
       "286       4650.0     NaN  \n",
       "303       5350.0    Male  \n",
       "221       5700.0    Male  "
      ]
     },
     "execution_count": 8,
     "metadata": {},
     "output_type": "execute_result"
    }
   ],
   "source": [
    "df.sample(n=5)"
   ]
  },
  {
   "cell_type": "code",
   "execution_count": 9,
   "id": "0e69960c",
   "metadata": {},
   "outputs": [
    {
     "name": "stdout",
     "output_type": "stream",
     "text": [
      "length of df:  344\n"
     ]
    }
   ],
   "source": [
    "print(\"length of df: \", len(df))"
   ]
  },
  {
   "cell_type": "code",
   "execution_count": null,
   "id": "1085ade1",
   "metadata": {},
   "outputs": [],
   "source": [
    "# drop duplicate based on `flipper_length_mm` and `body_mass_g`\n",
    "df.drop_duplicates(subset=[\"flipper_length_mm\", \"body_mass_g\"], inplace=True)"
   ]
  },
  {
   "cell_type": "code",
   "execution_count": 11,
   "id": "4aa50939",
   "metadata": {},
   "outputs": [
    {
     "name": "stdout",
     "output_type": "stream",
     "text": [
      "length of df after dropping duplicated:  306\n"
     ]
    }
   ],
   "source": [
    "print(\"length of df after dropping duplicated: \", len(df))"
   ]
  },
  {
   "cell_type": "code",
   "execution_count": null,
   "id": "a725679e",
   "metadata": {},
   "outputs": [],
   "source": []
  }
 ],
 "metadata": {
  "kernelspec": {
   "display_name": "ai-playground",
   "language": "python",
   "name": "python3"
  },
  "language_info": {
   "codemirror_mode": {
    "name": "ipython",
    "version": 3
   },
   "file_extension": ".py",
   "mimetype": "text/x-python",
   "name": "python",
   "nbconvert_exporter": "python",
   "pygments_lexer": "ipython3",
   "version": "3.11.11"
  }
 },
 "nbformat": 4,
 "nbformat_minor": 5
}
