{
 "cells": [
  {
   "attachments": {},
   "cell_type": "markdown",
   "metadata": {},
   "source": [
    "# Spam Classification with preprocessed data using Naive Bayes (multinomial)"
   ]
  },
  {
   "attachments": {},
   "cell_type": "markdown",
   "metadata": {},
   "source": [
    "## 1. Load dataset"
   ]
  },
  {
   "cell_type": "code",
   "execution_count": 5,
   "metadata": {},
   "outputs": [
    {
     "name": "stdout",
     "output_type": "stream",
     "text": [
      "Archive:  ../datasets/spam-email/ex6DataPrepared.zip\n",
      "  inflating: ../datasets/spam-email/ex6-prepared/test-features.txt  \n",
      "  inflating: ../datasets/spam-email/ex6-prepared/test-labels.txt  \n",
      "  inflating: ../datasets/spam-email/ex6-prepared/train-features-100.txt  \n",
      "  inflating: ../datasets/spam-email/ex6-prepared/train-features-400.txt  \n",
      "  inflating: ../datasets/spam-email/ex6-prepared/train-features-50.txt  \n",
      "  inflating: ../datasets/spam-email/ex6-prepared/train-features.txt  \n",
      "  inflating: ../datasets/spam-email/ex6-prepared/train-labels-100.txt  \n",
      "  inflating: ../datasets/spam-email/ex6-prepared/train-labels-400.txt  \n",
      "  inflating: ../datasets/spam-email/ex6-prepared/train-labels-50.txt  \n",
      "  inflating: ../datasets/spam-email/ex6-prepared/train-labels.txt  \n"
     ]
    }
   ],
   "source": [
    "# run if your dataset has not been unzipped\n",
    "!unzip ../datasets/spam-email/ex6DataPrepared.zip -d ../datasets/spam-email/ex6-prepared"
   ]
  },
  {
   "cell_type": "code",
   "execution_count": 1,
   "metadata": {},
   "outputs": [
    {
     "ename": "ModuleNotFoundError",
     "evalue": "No module named 'codes'",
     "output_type": "error",
     "traceback": [
      "\u001b[0;31m---------------------------------------------------------------------------\u001b[0m",
      "\u001b[0;31mModuleNotFoundError\u001b[0m                       Traceback (most recent call last)",
      "Cell \u001b[0;32mIn[1], line 3\u001b[0m\n\u001b[1;32m      1\u001b[0m \u001b[39mimport\u001b[39;00m \u001b[39mnumpy\u001b[39;00m \u001b[39mas\u001b[39;00m \u001b[39mnp\u001b[39;00m\n\u001b[1;32m      2\u001b[0m \u001b[39mfrom\u001b[39;00m \u001b[39msklearn\u001b[39;00m\u001b[39m.\u001b[39;00m\u001b[39mnaive_bayes\u001b[39;00m \u001b[39mimport\u001b[39;00m MultinomialNB\n\u001b[0;32m----> 3\u001b[0m \u001b[39mfrom\u001b[39;00m \u001b[39mcodes\u001b[39;00m\u001b[39m.\u001b[39;00m\u001b[39mutil\u001b[39;00m\u001b[39m.\u001b[39;00m\u001b[39mread_dataset\u001b[39;00m  \u001b[39mimport\u001b[39;00m read_data, read_label\n\u001b[1;32m      5\u001b[0m X_train \u001b[39m=\u001b[39m read_data(\u001b[39m'\u001b[39m\u001b[39m../datasets/spam-email/ex6-prepared/train-features-50.txt\u001b[39m\u001b[39m'\u001b[39m)\n\u001b[1;32m      6\u001b[0m y_train \u001b[39m=\u001b[39m read_label(\u001b[39m'\u001b[39m\u001b[39m../datasets/spam-email/ex6-prepared/train-labels-50.txt\u001b[39m\u001b[39m'\u001b[39m)\n",
      "\u001b[0;31mModuleNotFoundError\u001b[0m: No module named 'codes'"
     ]
    }
   ],
   "source": [
    "import numpy as np\n",
    "from sklearn.naive_bayes import MultinomialNB\n",
    "from codes.util.read_dataset  import read_data, read_label\n",
    "\n",
    "X_train = read_data('../datasets/spam-email/ex6-prepared/train-features-50.txt')\n",
    "y_train = read_label('../datasets/spam-email/ex6-prepared/train-labels-50.txt')\n",
    "X_test = read_data('../datasets/spam-email/ex6-prepared/test-features.txt')\n",
    "y_test = read_label('../datasets/spam-email/ex6-prepared/test-labels.txt')\n",
    "\n"
   ]
  },
  {
   "attachments": {},
   "cell_type": "markdown",
   "metadata": {},
   "source": [
    "### An example of padding"
   ]
  },
  {
   "cell_type": "code",
   "execution_count": 122,
   "metadata": {},
   "outputs": [
    {
     "data": {
      "text/plain": [
       "array([[1, 2, 3, 0, 0, 0, 0, 0, 0, 0],\n",
       "       [4, 5, 0, 0, 0, 0, 0, 0, 0, 0]])"
      ]
     },
     "execution_count": 122,
     "metadata": {},
     "output_type": "execute_result"
    }
   ],
   "source": [
    "a = [[1, 2, 3], [4,5]]\n",
    "out = []\n",
    "for arr in a: \n",
    "    b = []\n",
    "    b[:len(arr)]=arr\n",
    "    b[len(arr):]=[0]*(10-len(arr))\n",
    "    out.append(b)\n",
    "    \n",
    "np.array(out)\n"
   ]
  },
  {
   "attachments": {},
   "cell_type": "markdown",
   "metadata": {},
   "source": [
    "## 2. Load model and train"
   ]
  },
  {
   "cell_type": "code",
   "execution_count": 126,
   "metadata": {},
   "outputs": [
    {
     "ename": "NameError",
     "evalue": "name 'MultinomialNB' is not defined",
     "output_type": "error",
     "traceback": [
      "\u001b[0;31m---------------------------------------------------------------------------\u001b[0m",
      "\u001b[0;31mNameError\u001b[0m                                 Traceback (most recent call last)",
      "Cell \u001b[0;32mIn[126], line 1\u001b[0m\n\u001b[0;32m----> 1\u001b[0m clf \u001b[39m=\u001b[39m MultinomialNB()\n\u001b[1;32m      2\u001b[0m clf\u001b[39m.\u001b[39mfit(X_train, y_train)\n",
      "\u001b[0;31mNameError\u001b[0m: name 'MultinomialNB' is not defined"
     ]
    }
   ],
   "source": [
    "clf = MultinomialNB()\n",
    "clf.fit(X_train, y_train)"
   ]
  },
  {
   "cell_type": "code",
   "execution_count": null,
   "metadata": {},
   "outputs": [],
   "source": []
  }
 ],
 "metadata": {
  "kernelspec": {
   "display_name": "py39",
   "language": "python",
   "name": "python3"
  },
  "language_info": {
   "codemirror_mode": {
    "name": "ipython",
    "version": 3
   },
   "file_extension": ".py",
   "mimetype": "text/x-python",
   "name": "python",
   "nbconvert_exporter": "python",
   "pygments_lexer": "ipython3",
   "version": "3.9.15"
  },
  "orig_nbformat": 4
 },
 "nbformat": 4,
 "nbformat_minor": 2
}
